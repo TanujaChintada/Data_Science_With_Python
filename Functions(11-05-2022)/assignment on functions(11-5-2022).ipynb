{
 "cells": [
  {
   "cell_type": "markdown",
   "id": "23ea99da",
   "metadata": {},
   "source": [
    "# Assignment "
   ]
  },
  {
   "cell_type": "code",
   "execution_count": 8,
   "id": "25b4aadf",
   "metadata": {},
   "outputs": [],
   "source": [
    "##Write a python program to check two given numbers are coprime or not ?"
   ]
  },
  {
   "cell_type": "code",
   "execution_count": 4,
   "id": "2b1ff82d",
   "metadata": {},
   "outputs": [
    {
     "name": "stdout",
     "output_type": "stream",
     "text": [
      "enter a number1:64\n",
      "enter a number2:48\n",
      "False\n"
     ]
    }
   ],
   "source": [
    "def gcd(a,b):\n",
    "    if b==0:\n",
    "        return a \n",
    "    else:\n",
    "        return gcd(b,a%b)\n",
    "def is_coprime(x,y):\n",
    "    return gcd(x,y)==1\n",
    "n1 = int(input(\"enter a number1:\"))\n",
    "n2 = int(input(\"enter a number2:\"))\n",
    "print(is_coprime(n1,n2))"
   ]
  },
  {
   "cell_type": "code",
   "execution_count": 6,
   "id": "9c61d541",
   "metadata": {},
   "outputs": [],
   "source": [
    "##Write a python program to find nth fibonacci number"
   ]
  },
  {
   "cell_type": "code",
   "execution_count": 18,
   "id": "aa05e3c3",
   "metadata": {},
   "outputs": [
    {
     "name": "stdout",
     "output_type": "stream",
     "text": [
      "34\n"
     ]
    }
   ],
   "source": [
    "def fibonacci(n):\n",
    "    if(n<=0):\n",
    "        print(\"Incorrect input\")\n",
    "    \n",
    "    elif(n==1):\n",
    "        return 0\n",
    "    elif(n==2):\n",
    "        return 1\n",
    "    else:\n",
    "        return fibonacci(n-1)+fibonacci(n-2)\n",
    "print(fibonacci(10))\n",
    "    "
   ]
  },
  {
   "cell_type": "code",
   "execution_count": 17,
   "id": "e0a8311b",
   "metadata": {},
   "outputs": [],
   "source": [
    "## Write a python program to print first n fibonacci numbers"
   ]
  },
  {
   "cell_type": "code",
   "execution_count": 21,
   "id": "e597e3ce",
   "metadata": {},
   "outputs": [
    {
     "name": "stdout",
     "output_type": "stream",
     "text": [
      "0 1 1 2 3 5 8 13 21 34 "
     ]
    }
   ],
   "source": [
    "def printfibonacci(n):\n",
    "    f1=0\n",
    "    f2=1\n",
    "    if(n<1):\n",
    "        return \n",
    "    for x in range(0,n):\n",
    "        print(f1,end=\" \")\n",
    "        next=f1+f2\n",
    "        f1=f2\n",
    "        f2=next\n",
    "printfibonacci(10)      "
   ]
  },
  {
   "cell_type": "code",
   "execution_count": null,
   "id": "f4dff8a1",
   "metadata": {},
   "outputs": [],
   "source": []
  },
  {
   "cell_type": "code",
   "execution_count": null,
   "id": "86fa05f7",
   "metadata": {},
   "outputs": [],
   "source": []
  }
 ],
 "metadata": {
  "kernelspec": {
   "display_name": "Python 3 (ipykernel)",
   "language": "python",
   "name": "python3"
  },
  "language_info": {
   "codemirror_mode": {
    "name": "ipython",
    "version": 3
   },
   "file_extension": ".py",
   "mimetype": "text/x-python",
   "name": "python",
   "nbconvert_exporter": "python",
   "pygments_lexer": "ipython3",
   "version": "3.9.12"
  }
 },
 "nbformat": 4,
 "nbformat_minor": 5
}
