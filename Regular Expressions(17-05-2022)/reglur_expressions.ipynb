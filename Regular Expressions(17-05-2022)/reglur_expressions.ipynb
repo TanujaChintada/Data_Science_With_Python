{
 "cells": [
  {
   "cell_type": "markdown",
   "id": "2af36d13",
   "metadata": {},
   "source": [
    "# Regular Expressions"
   ]
  },
  {
   "cell_type": "code",
   "execution_count": 1,
   "id": "c6e34d0d",
   "metadata": {},
   "outputs": [],
   "source": [
    "import re\n",
    "name=\"Vandana Durga prasanna\"\n",
    "sis=\"she is my sis,sis\"\n"
   ]
  },
  {
   "cell_type": "code",
   "execution_count": 7,
   "id": "683b7bed",
   "metadata": {},
   "outputs": [
    {
     "name": "stdout",
     "output_type": "stream",
     "text": [
      "<re.Match object; span=(8, 11), match='Dur'>\n",
      "None\n"
     ]
    }
   ],
   "source": [
    "#search\n",
    "a=re.search(\"Dur\",name)\n",
    "print(a)\n",
    "\n",
    "b=re.search(\"DUR\",name)\n",
    "print(b)"
   ]
  },
  {
   "cell_type": "code",
   "execution_count": 10,
   "id": "96442676",
   "metadata": {},
   "outputs": [
    {
     "name": "stdout",
     "output_type": "stream",
     "text": [
      "['is', 'is', 'is']\n",
      "['a', 'a', 'a', 'a', 'a', 'a', 'a']\n"
     ]
    }
   ],
   "source": [
    "#find all\n",
    "c=re.findall(\"is\",sis)\n",
    "print(c)\n",
    "\n",
    "a=re.findall(\"a\",name)\n",
    "print(a)"
   ]
  },
  {
   "cell_type": "code",
   "execution_count": 12,
   "id": "12342b5f",
   "metadata": {},
   "outputs": [
    {
     "name": "stdout",
     "output_type": "stream",
     "text": [
      "she is my sister,sister\n"
     ]
    }
   ],
   "source": [
    "#sub\n",
    "b=re.sub(\"sis\",\"sister\",sis)\n",
    "print(b)"
   ]
  },
  {
   "cell_type": "code",
   "execution_count": 14,
   "id": "33a6e386",
   "metadata": {},
   "outputs": [
    {
     "name": "stdout",
     "output_type": "stream",
     "text": [
      "['she ', ' my s', ',s', '']\n"
     ]
    }
   ],
   "source": [
    "a=re.split(\"is\",sis)\n",
    "print(a)"
   ]
  },
  {
   "cell_type": "code",
   "execution_count": 15,
   "id": "4b276e3b",
   "metadata": {},
   "outputs": [
    {
     "name": "stdout",
     "output_type": "stream",
     "text": [
      "['a', 'd', 'a', 'a', 'g', 'a', 'a', 'a', 'a']\n"
     ]
    }
   ],
   "source": [
    "x=re.findall(\"[a-m]\",name)\n",
    "print(x)"
   ]
  },
  {
   "cell_type": "code",
   "execution_count": 16,
   "id": "43f75e16",
   "metadata": {},
   "outputs": [
    {
     "name": "stdout",
     "output_type": "stream",
     "text": [
      "[]\n"
     ]
    }
   ],
   "source": [
    "print(re.findall(\"[1-8]\",sis))"
   ]
  },
  {
   "cell_type": "code",
   "execution_count": 17,
   "id": "c845ec1c",
   "metadata": {},
   "outputs": [
    {
     "name": "stdout",
     "output_type": "stream",
     "text": [
      "['Durg']\n"
     ]
    }
   ],
   "source": [
    "#sesrch for du followed by andy cha\n",
    "x=re.findall(\"Du..\",name)\n",
    "print(x)"
   ]
  },
  {
   "cell_type": "code",
   "execution_count": 18,
   "id": "52669d09",
   "metadata": {},
   "outputs": [
    {
     "name": "stdout",
     "output_type": "stream",
     "text": [
      "['V']\n"
     ]
    }
   ],
   "source": [
    "x=re.findall(\"^V\",name)\n",
    "print(x)\n",
    "\n",
    "# start with x if true retuns string"
   ]
  },
  {
   "cell_type": "code",
   "execution_count": 23,
   "id": "3af1d38c",
   "metadata": {},
   "outputs": [
    {
     "name": "stdout",
     "output_type": "stream",
     "text": [
      "vkeerthichavla@gmail.com\n",
      "True\n"
     ]
    }
   ],
   "source": [
    "import re\n",
    "def gmail(g):\n",
    "    pat=\"^[a-zA-Z0-9-_]+@[a-zA-Z0-9]+\\.[a-z]{1,3}$\"\n",
    "    if re.match(pat,g):\n",
    "        return True\n",
    "    return  notemail\n",
    "\n",
    "g=input()\n",
    "print(gmail(g))\n",
    "    "
   ]
  },
  {
   "cell_type": "code",
   "execution_count": null,
   "id": "72318de7",
   "metadata": {},
   "outputs": [],
   "source": [
    "num=int(input())\n",
    "pat=\"(0|91)?[7-9][0-9]{9}\"\n",
    "\n",
    "if re.match(pat,num):\n",
    "    return True\n"
   ]
  },
  {
   "cell_type": "code",
   "execution_count": null,
   "id": "d6a99a71",
   "metadata": {},
   "outputs": [],
   "source": []
  }
 ],
 "metadata": {
  "kernelspec": {
   "display_name": "Python 3 (ipykernel)",
   "language": "python",
   "name": "python3"
  },
  "language_info": {
   "codemirror_mode": {
    "name": "ipython",
    "version": 3
   },
   "file_extension": ".py",
   "mimetype": "text/x-python",
   "name": "python",
   "nbconvert_exporter": "python",
   "pygments_lexer": "ipython3",
   "version": "3.9.7"
  }
 },
 "nbformat": 4,
 "nbformat_minor": 5
}
