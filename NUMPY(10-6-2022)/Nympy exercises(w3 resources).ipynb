{
 "cells": [
  {
   "cell_type": "code",
   "execution_count": 2,
   "id": "10f0282a",
   "metadata": {},
   "outputs": [
    {
     "name": "stdout",
     "output_type": "stream",
     "text": [
      "<module 'numpy.version' from 'C:\\\\Users\\\\Tanuja Chintada\\\\Downloads\\\\New folder\\\\lib\\\\site-packages\\\\numpy\\\\version.py'>\n",
      "blas_mkl_info:\n",
      "    libraries = ['mkl_rt']\n",
      "    library_dirs = ['C:/Users/Tanuja Chintada/Downloads/New folder\\\\Library\\\\lib']\n",
      "    define_macros = [('SCIPY_MKL_H', None), ('HAVE_CBLAS', None)]\n",
      "    include_dirs = ['C:/Users/Tanuja Chintada/Downloads/New folder\\\\Library\\\\include']\n",
      "blas_opt_info:\n",
      "    libraries = ['mkl_rt']\n",
      "    library_dirs = ['C:/Users/Tanuja Chintada/Downloads/New folder\\\\Library\\\\lib']\n",
      "    define_macros = [('SCIPY_MKL_H', None), ('HAVE_CBLAS', None)]\n",
      "    include_dirs = ['C:/Users/Tanuja Chintada/Downloads/New folder\\\\Library\\\\include']\n",
      "lapack_mkl_info:\n",
      "    libraries = ['mkl_rt']\n",
      "    library_dirs = ['C:/Users/Tanuja Chintada/Downloads/New folder\\\\Library\\\\lib']\n",
      "    define_macros = [('SCIPY_MKL_H', None), ('HAVE_CBLAS', None)]\n",
      "    include_dirs = ['C:/Users/Tanuja Chintada/Downloads/New folder\\\\Library\\\\include']\n",
      "lapack_opt_info:\n",
      "    libraries = ['mkl_rt']\n",
      "    library_dirs = ['C:/Users/Tanuja Chintada/Downloads/New folder\\\\Library\\\\lib']\n",
      "    define_macros = [('SCIPY_MKL_H', None), ('HAVE_CBLAS', None)]\n",
      "    include_dirs = ['C:/Users/Tanuja Chintada/Downloads/New folder\\\\Library\\\\include']\n",
      "Supported SIMD extensions in this NumPy install:\n",
      "    baseline = SSE,SSE2,SSE3\n",
      "    found = SSSE3,SSE41,POPCNT,SSE42,AVX,F16C,FMA3,AVX2\n",
      "    not found = AVX512F,AVX512CD,AVX512_SKX,AVX512_CLX,AVX512_CNL\n",
      "None\n"
     ]
    }
   ],
   "source": [
    "import numpy as np\n",
    "print(np.version)\n",
    "print(np.show_config ())"
   ]
  },
  {
   "cell_type": "code",
   "execution_count": 4,
   "id": "8a83e5f0",
   "metadata": {},
   "outputs": [
    {
     "name": "stdout",
     "output_type": "stream",
     "text": [
      "add(x1, x2, /, out=None, *, where=True, casting='same_kind', order='K', dtype=None, subok=True[, signature, extobj])\n",
      "\n",
      "Add arguments element-wise.\n",
      "\n",
      "Parameters\n",
      "----------\n",
      "x1, x2 : array_like\n",
      "    The arrays to be added.\n",
      "    If ``x1.shape != x2.shape``, they must be broadcastable to a common\n",
      "    shape (which becomes the shape of the output).\n",
      "out : ndarray, None, or tuple of ndarray and None, optional\n",
      "    A location into which the result is stored. If provided, it must have\n",
      "    a shape that the inputs broadcast to. If not provided or None,\n",
      "    a freshly-allocated array is returned. A tuple (possible only as a\n",
      "    keyword argument) must have length equal to the number of outputs.\n",
      "where : array_like, optional\n",
      "    This condition is broadcast over the input. At locations where the\n",
      "    condition is True, the `out` array will be set to the ufunc result.\n",
      "    Elsewhere, the `out` array will retain its original value.\n",
      "    Note that if an uninitialized `out` array is created via the default\n",
      "    ``out=None``, locations within it where the condition is False will\n",
      "    remain uninitialized.\n",
      "**kwargs\n",
      "    For other keyword-only arguments, see the\n",
      "    :ref:`ufunc docs <ufuncs.kwargs>`.\n",
      "\n",
      "Returns\n",
      "-------\n",
      "add : ndarray or scalar\n",
      "    The sum of `x1` and `x2`, element-wise.\n",
      "    This is a scalar if both `x1` and `x2` are scalars.\n",
      "\n",
      "Notes\n",
      "-----\n",
      "Equivalent to `x1` + `x2` in terms of array broadcasting.\n",
      "\n",
      "Examples\n",
      "--------\n",
      ">>> np.add(1.0, 4.0)\n",
      "5.0\n",
      ">>> x1 = np.arange(9.0).reshape((3, 3))\n",
      ">>> x2 = np.arange(3.0)\n",
      ">>> np.add(x1, x2)\n",
      "array([[  0.,   2.,   4.],\n",
      "       [  3.,   5.,   7.],\n",
      "       [  6.,   8.,  10.]])\n",
      "\n",
      "The ``+`` operator can be used as a shorthand for ``np.add`` on ndarrays.\n",
      "\n",
      ">>> x1 = np.arange(9.0).reshape((3, 3))\n",
      ">>> x2 = np.arange(3.0)\n",
      ">>> x1 + x2\n",
      "array([[ 0.,  2.,  4.],\n",
      "       [ 3.,  5.,  7.],\n",
      "       [ 6.,  8., 10.]])\n",
      "None\n"
     ]
    }
   ],
   "source": [
    "import numpy as np\n",
    "print(np.info(np.add))"
   ]
  },
  {
   "cell_type": "code",
   "execution_count": 5,
   "id": "0c30c40d",
   "metadata": {},
   "outputs": [
    {
     "name": "stdout",
     "output_type": "stream",
     "text": [
      "[1 2 3 4]\n",
      "True\n",
      "[0 1 2 3 4]\n",
      "False\n"
     ]
    }
   ],
   "source": [
    "import numpy as np\n",
    "x=np.array([1,2,3,4])\n",
    "print(x)\n",
    "print(np.all(x))\n",
    "y=np.array([0,1,2,3,4])\n",
    "print(y)\n",
    "print(np.all(y))"
   ]
  },
  {
   "cell_type": "code",
   "execution_count": 6,
   "id": "1880aee3",
   "metadata": {},
   "outputs": [
    {
     "data": {
      "text/plain": [
       "True"
      ]
     },
     "execution_count": 6,
     "metadata": {},
     "output_type": "execute_result"
    }
   ],
   "source": [
    "x.any()\n",
    "y.any()"
   ]
  },
  {
   "cell_type": "code",
   "execution_count": 8,
   "id": "0f7d999e",
   "metadata": {},
   "outputs": [
    {
     "name": "stdout",
     "output_type": "stream",
     "text": [
      "False\n"
     ]
    }
   ],
   "source": [
    "x=[0,0,0,0]\n",
    "print(np.any(x))"
   ]
  },
  {
   "cell_type": "code",
   "execution_count": 10,
   "id": "7bcd9f65",
   "metadata": {},
   "outputs": [
    {
     "name": "stdout",
     "output_type": "stream",
     "text": [
      "True\n"
     ]
    }
   ],
   "source": [
    "y=[1,2,0,0]\n",
    "print(np.any(y))"
   ]
  },
  {
   "cell_type": "code",
   "execution_count": 13,
   "id": "6bfa0717",
   "metadata": {},
   "outputs": [
    {
     "name": "stdout",
     "output_type": "stream",
     "text": [
      "[ 1.  0. nan inf]\n",
      "[ True  True False False]\n"
     ]
    }
   ],
   "source": [
    "a=np.array([1,0,np.nan,np.inf])\n",
    "print(a)\n",
    "print(np.isfinite(a))"
   ]
  },
  {
   "cell_type": "code",
   "execution_count": 14,
   "id": "0abb7c1d",
   "metadata": {},
   "outputs": [
    {
     "name": "stdout",
     "output_type": "stream",
     "text": [
      "[ True  True  True  True False]\n"
     ]
    }
   ],
   "source": [
    "x=np.array([12.5,66,9,0,np.nan])\n",
    "print(np.isfinite(x))"
   ]
  },
  {
   "cell_type": "code",
   "execution_count": 16,
   "id": "5cfe96a5",
   "metadata": {},
   "outputs": [
    {
     "name": "stdout",
     "output_type": "stream",
     "text": [
      "[15.  23.5  nan  inf  1.   0. ]\n",
      "[False False False  True False False]\n"
     ]
    }
   ],
   "source": [
    "x=np.array([15,23.5,np.nan,np.inf,1,0])\n",
    "print(x)\n",
    "print(np.isinf(x))"
   ]
  },
  {
   "cell_type": "code",
   "execution_count": 19,
   "id": "edfa3652",
   "metadata": {},
   "outputs": [
    {
     "name": "stdout",
     "output_type": "stream",
     "text": [
      "[False  True]\n",
      "[False  True]\n",
      "[False False]\n"
     ]
    }
   ],
   "source": [
    "y=np.array([np.nan,np.inf])\n",
    "print(np.isinf(y))\n",
    "print(np.isposinf(y))\n",
    "print(np.isneginf(y))"
   ]
  },
  {
   "cell_type": "code",
   "execution_count": 20,
   "id": "43253852",
   "metadata": {},
   "outputs": [
    {
     "name": "stdout",
     "output_type": "stream",
     "text": [
      "[ nan  inf -98.   9.   1.]\n",
      "[ True False False False False]\n"
     ]
    }
   ],
   "source": [
    "x=np.array([np.nan,np.inf,-98,9,1])\n",
    "print(x)\n",
    "print(np.isnan(x))"
   ]
  },
  {
   "cell_type": "code",
   "execution_count": 23,
   "id": "53bad2d1",
   "metadata": {},
   "outputs": [
    {
     "name": "stdout",
     "output_type": "stream",
     "text": [
      "False\n",
      "[ True False False False False  True]\n",
      "[False  True  True  True  True False]\n"
     ]
    }
   ],
   "source": [
    "import numpy as np \n",
    "a=np.array([1+2j,2.5,np.nan,np.inf,1,0+1j])\n",
    "print(np.isscalar(a))\n",
    "print(np.iscomplex(a))\n",
    "print(np.isreal(a))"
   ]
  },
  {
   "cell_type": "code",
   "execution_count": 24,
   "id": "893cd08b",
   "metadata": {},
   "outputs": [
    {
     "data": {
      "text/plain": [
       "True"
      ]
     },
     "execution_count": 24,
     "metadata": {},
     "output_type": "execute_result"
    }
   ],
   "source": [
    "np.isscalar(1)"
   ]
  },
  {
   "cell_type": "code",
   "execution_count": 25,
   "id": "4523c6eb",
   "metadata": {},
   "outputs": [
    {
     "data": {
      "text/plain": [
       "True"
      ]
     },
     "execution_count": 25,
     "metadata": {},
     "output_type": "execute_result"
    }
   ],
   "source": [
    "np.isscalar(2.7)"
   ]
  },
  {
   "cell_type": "code",
   "execution_count": 26,
   "id": "da9e0273",
   "metadata": {},
   "outputs": [
    {
     "data": {
      "text/plain": [
       "True"
      ]
     },
     "execution_count": 26,
     "metadata": {},
     "output_type": "execute_result"
    }
   ],
   "source": [
    "np.isscalar(1+2j)"
   ]
  },
  {
   "cell_type": "code",
   "execution_count": 27,
   "id": "c9f49693",
   "metadata": {},
   "outputs": [
    {
     "data": {
      "text/plain": [
       "True"
      ]
     },
     "execution_count": 27,
     "metadata": {},
     "output_type": "execute_result"
    }
   ],
   "source": [
    "np.isscalar(np.nan)"
   ]
  },
  {
   "cell_type": "code",
   "execution_count": 28,
   "id": "6ca52dee",
   "metadata": {},
   "outputs": [
    {
     "data": {
      "text/plain": [
       "True"
      ]
     },
     "execution_count": 28,
     "metadata": {},
     "output_type": "execute_result"
    }
   ],
   "source": [
    "np.isscalar(np.inf)"
   ]
  },
  {
   "cell_type": "code",
   "execution_count": 3,
   "id": "41797302",
   "metadata": {},
   "outputs": [
    {
     "name": "stdout",
     "output_type": "stream",
     "text": [
      "[-0.32744897]\n"
     ]
    }
   ],
   "source": [
    "import numpy as np\n",
    "rand_num=np.random.normal(0,1,1)\n",
    "print(rand_num)"
   ]
  },
  {
   "cell_type": "code",
   "execution_count": 8,
   "id": "9ddee6b2",
   "metadata": {},
   "outputs": [
    {
     "name": "stdout",
     "output_type": "stream",
     "text": [
      "[ 0.   2.5  5.   7.5 10. ]\n"
     ]
    }
   ],
   "source": [
    "import numpy as np\n",
    "x=np.linspace(0,10,5)\n",
    "print(x)"
   ]
  },
  {
   "cell_type": "code",
   "execution_count": 13,
   "id": "6c696f97",
   "metadata": {},
   "outputs": [
    {
     "name": "stdout",
     "output_type": "stream",
     "text": [
      "[ 0  1  2  3  4  5  6  7  8  9 10 11 12 13 14 15 16 17 18 19 20]\n"
     ]
    },
    {
     "ename": "TypeError",
     "evalue": "'builtin_function_or_method' object is not subscriptable",
     "output_type": "error",
     "traceback": [
      "\u001b[1;31m---------------------------------------------------------------------------\u001b[0m",
      "\u001b[1;31mTypeError\u001b[0m                                 Traceback (most recent call last)",
      "Input \u001b[1;32mIn [13]\u001b[0m, in \u001b[0;36m<cell line: 4>\u001b[1;34m()\u001b[0m\n\u001b[0;32m      2\u001b[0m x\u001b[38;5;241m=\u001b[39mnp\u001b[38;5;241m.\u001b[39marange(\u001b[38;5;241m21\u001b[39m)\n\u001b[0;32m      3\u001b[0m \u001b[38;5;28mprint\u001b[39m(x)\n\u001b[1;32m----> 4\u001b[0m \u001b[38;5;28mprint\u001b[39m[(x\u001b[38;5;241m>\u001b[39m\u001b[38;5;241m=\u001b[39m\u001b[38;5;241m9\u001b[39m)\u001b[38;5;241m&\u001b[39m(x\u001b[38;5;241m<\u001b[39m\u001b[38;5;241m=\u001b[39m\u001b[38;5;241m15\u001b[39m)]\u001b[38;5;241m*\u001b[39m\u001b[38;5;241m=\u001b[39m\u001b[38;5;241m-\u001b[39m\u001b[38;5;241m1\u001b[39m\n\u001b[0;32m      5\u001b[0m \u001b[38;5;28mprint\u001b[39m(x)\n",
      "\u001b[1;31mTypeError\u001b[0m: 'builtin_function_or_method' object is not subscriptable"
     ]
    }
   ],
   "source": [
    "import numpy as np \n",
    "x=np.arange(21)\n",
    "print(x)\n",
    "print[(x>=9)&(x<=15)]*=-1\n",
    "print(x)"
   ]
  },
  {
   "cell_type": "code",
   "execution_count": 2,
   "id": "3b6a7ac8",
   "metadata": {},
   "outputs": [
    {
     "name": "stdout",
     "output_type": "stream",
     "text": [
      "[0. 0. 0. 0. 0. 0. 0. 0. 0. 0.]\n",
      "[1. 1. 1. 1. 1. 1. 1. 1. 1. 1.]\n",
      "[10. 10. 10. 10. 10. 10. 10. 10. 10. 10.]\n"
     ]
    }
   ],
   "source": [
    "import numpy as np\n",
    "arr1=np.zeros(10)\n",
    "print(arr1)\n",
    "arr2=np.ones(10)\n",
    "print(arr2)\n",
    "arr3=np.ones(10)*10\n",
    "print(arr3)"
   ]
  },
  {
   "cell_type": "code",
   "execution_count": 3,
   "id": "f1ccdb06",
   "metadata": {},
   "outputs": [
    {
     "name": "stdout",
     "output_type": "stream",
     "text": [
      "[30 31 32 33 34 35 36 37 38 39 40 41 42 43 44 45 46 47 48 49 50 51 52 53\n",
      " 54 55 56 57 58 59 60 61 62 63 64 65 66 67 68 69 70]\n"
     ]
    }
   ],
   "source": [
    "import  numpy as np\n",
    "arr=np.arange(30,71)\n",
    "print(arr)"
   ]
  },
  {
   "cell_type": "code",
   "execution_count": 4,
   "id": "f688fe79",
   "metadata": {},
   "outputs": [
    {
     "name": "stdout",
     "output_type": "stream",
     "text": [
      "[  0   1   2   3   4   5   6   7   8   9  10  11  12  13  14  15  16  17\n",
      "  18  19  20  21  22  23  24  25  26  27  28  29  30  31  32  33  34  35\n",
      "  36  37  38  39  40  41  42  43  44  45  46  47  48  49  50  51  52  53\n",
      "  54  55  56  57  58  59  60  61  62  63  64  65  66  67  68  69  70  71\n",
      "  72  73  74  75  76  77  78  79  80  81  82  83  84  85  86  87  88  89\n",
      "  90  91  92  93  94  95  96  97  98  99 100]\n"
     ]
    }
   ],
   "source": [
    "import numpy as np\n",
    "arr=np.arange(0,101)\n",
    "print(arr)"
   ]
  },
  {
   "cell_type": "code",
   "execution_count": 5,
   "id": "cce2c32e",
   "metadata": {},
   "outputs": [
    {
     "name": "stdout",
     "output_type": "stream",
     "text": [
      "[30 32 34 36 38 40 42 44 46 48 50 52 54 56 58 60 62 64 66 68 70]\n"
     ]
    }
   ],
   "source": [
    "import numpy as np              //print even integers from 30 to 70\n",
    "arr=np.arange(30,71,2)\n",
    "print(arr)"
   ]
  },
  {
   "cell_type": "code",
   "execution_count": 6,
   "id": "9fb0ce4c",
   "metadata": {},
   "outputs": [
    {
     "name": "stdout",
     "output_type": "stream",
     "text": [
      "3*3 matrix\n",
      "[[1. 0. 0.]\n",
      " [0. 1. 0.]\n",
      " [0. 0. 1.]]\n"
     ]
    }
   ],
   "source": [
    "import numpy as np\n",
    "arr=np.identity(3)\n",
    "print(\"3*3 matrix\")\n",
    "print(arr)"
   ]
  },
  {
   "cell_type": "code",
   "execution_count": 8,
   "id": "feb1f0a5",
   "metadata": {},
   "outputs": [
    {
     "name": "stdout",
     "output_type": "stream",
     "text": [
      "5*5 matrix\n",
      "[[1. 0. 0. 0. 0.]\n",
      " [0. 1. 0. 0. 0.]\n",
      " [0. 0. 1. 0. 0.]\n",
      " [0. 0. 0. 1. 0.]\n",
      " [0. 0. 0. 0. 1.]]\n"
     ]
    }
   ],
   "source": [
    "import numpy as np\n",
    "arr=np.identity(5)\n",
    "print(\"5*5 matrix\")\n",
    "print(arr)"
   ]
  },
  {
   "cell_type": "markdown",
   "id": "9b54cfd1",
   "metadata": {},
   "source": []
  },
  {
   "cell_type": "code",
   "execution_count": 12,
   "id": "21134490",
   "metadata": {},
   "outputs": [
    {
     "name": "stdout",
     "output_type": "stream",
     "text": [
      "[-0.57609503  0.37800692]\n"
     ]
    }
   ],
   "source": [
    "import numpy as np\n",
    "arr=np.random.normal(0,1,2)\n",
    "print(\"random numbers between 0 and 1\")\n",
    "print(arr)"
   ]
  },
  {
   "cell_type": "code",
   "execution_count": 15,
   "id": "46cb072c",
   "metadata": {},
   "outputs": [
    {
     "name": "stdout",
     "output_type": "stream",
     "text": [
      "random numbers between 0 and 5\n",
      "[-1.92932743  0.00392463  1.14579881  0.20229232 -0.49837863 -0.54361087\n",
      " -0.9799938   0.50900737  0.43330263 -0.19318871  2.19662409 -1.74578896\n",
      " -0.48079384  0.73737559  0.31213999]\n"
     ]
    }
   ],
   "source": [
    "import numpy as np\n",
    "arr=np.random.normal(0,1,15)\n",
    "print(\"random numbers between 0 and 5\")\n",
    "print(arr)"
   ]
  },
  {
   "cell_type": "code",
   "execution_count": 16,
   "id": "862926d1",
   "metadata": {},
   "outputs": [
    {
     "name": "stdout",
     "output_type": "stream",
     "text": [
      "[10 11 12 13 14 15 16 17 18 19 20 21 22 23 24 25 26 27 28 29 30]\n",
      "[11 12 13 14 15 16 17 18 19 20 21 22 23 24 25 26 27 28 29]\n",
      "[10 11 12 13 14 15 16 17 18 19 20 21 22 23 24 25 26 27 28 29 30]\n"
     ]
    }
   ],
   "source": [
    "import numpy as np\n",
    "arr=np.arange(10,31)\n",
    "print(arr)\n",
    "print(arr[1:-1])\n",
    "print(arr)"
   ]
  },
  {
   "cell_type": "code",
   "execution_count": 19,
   "id": "47fe65c2",
   "metadata": {},
   "outputs": [
    {
     "name": "stdout",
     "output_type": "stream",
     "text": [
      "[15 16 17 18 19 20 21 22 23 24 25 26 27 28 29 30 31 32 33 34 35 36 37 38\n",
      " 39 40 41 42 43 44 45 46 47 48 49 50 51 52 53 54]\n",
      "[20 21 22 23 24 25 26 27 28 29 30 31 32 33 34 35 36 37 38 39 40 41 42 43\n",
      " 44 45 46 47 48 49]\n"
     ]
    }
   ],
   "source": [
    "import numpy as np\n",
    "arr=np.arange(15,55)\n",
    "print(arr)\n",
    "print(arr[5:-5])\n"
   ]
  },
  {
   "cell_type": "code",
   "execution_count": 20,
   "id": "da6df586",
   "metadata": {},
   "outputs": [
    {
     "name": "stdout",
     "output_type": "stream",
     "text": [
      "[[12 13 14 15]\n",
      " [16 17 18 19]\n",
      " [20 21 22 23]]\n"
     ]
    }
   ],
   "source": [
    "import numpy as np\n",
    "arr=np.arange(12,24).reshape((3,4))\n",
    "print(arr)\n"
   ]
  },
  {
   "cell_type": "code",
   "execution_count": 22,
   "id": "b824fb00",
   "metadata": {},
   "outputs": [
    {
     "name": "stdout",
     "output_type": "stream",
     "text": [
      "[10.   19.75 29.5  39.25 49.  ]\n",
      "[ 0.   2.5  5.   7.5 10. ]\n"
     ]
    }
   ],
   "source": [
    "import numpy as np\n",
    "arr=np.linspace(10,49,5)\n",
    "print(arr)\n",
    "arr=np.linspace(0,10,5)\n",
    "print(arr)\n"
   ]
  },
  {
   "cell_type": "code",
   "execution_count": 25,
   "id": "25508ea6",
   "metadata": {},
   "outputs": [
    {
     "name": "stdout",
     "output_type": "stream",
     "text": [
      "[ 0  1  2  3  4  5  6  7  8  9 10 11 12 13 14 15 16 17 18 19 20]\n",
      "[  0   1   2   3   4   5   6   7   8  -9 -10 -11 -12 -13 -14 -15  16  17\n",
      "  18  19  20]\n"
     ]
    }
   ],
   "source": [
    "import numpy as np\n",
    "arr=np.arange(21)\n",
    "print(arr)\n",
    "arr[(arr>=9)&(arr<=15)]*=-1\n",
    "print(arr)"
   ]
  },
  {
   "cell_type": "code",
   "execution_count": 26,
   "id": "50c68d1e",
   "metadata": {},
   "outputs": [
    {
     "name": "stdout",
     "output_type": "stream",
     "text": [
      "[[1. 0. 0. 0.]\n",
      " [0. 1. 0. 0.]\n",
      " [0. 0. 1. 0.]\n",
      " [0. 0. 0. 1.]]\n"
     ]
    }
   ],
   "source": [
    "import numpy as np\n",
    "arr=np.eye(4)\n",
    "print(arr)"
   ]
  },
  {
   "cell_type": "code",
   "execution_count": 28,
   "id": "08e49b71",
   "metadata": {},
   "outputs": [
    {
     "name": "stdout",
     "output_type": "stream",
     "text": [
      "[[1. 1. 1. 1. 1. 1. 1. 1. 1. 1.]\n",
      " [0. 0. 0. 0. 0. 0. 0. 0. 0. 0.]\n",
      " [0. 0. 0. 0. 0. 0. 0. 0. 0. 0.]\n",
      " [0. 0. 0. 0. 0. 0. 0. 0. 0. 0.]\n",
      " [0. 0. 0. 0. 0. 0. 0. 0. 0. 0.]\n",
      " [0. 0. 0. 0. 0. 0. 0. 0. 0. 0.]\n",
      " [0. 0. 0. 0. 0. 0. 0. 0. 0. 0.]\n",
      " [0. 0. 0. 0. 0. 0. 0. 0. 0. 0.]\n",
      " [0. 0. 0. 0. 0. 0. 0. 0. 0. 0.]\n",
      " [1. 1. 1. 1. 1. 1. 1. 1. 1. 1.]]\n"
     ]
    }
   ],
   "source": [
    "import numpy as np\n",
    "arr=np.ones((10,10))\n",
    "arr[1:-1]=0\n",
    "print(arr)"
   ]
  },
  {
   "cell_type": "code",
   "execution_count": 31,
   "id": "ba5c4ef8",
   "metadata": {},
   "outputs": [
    {
     "name": "stdout",
     "output_type": "stream",
     "text": [
      "[[1. 1. 1. 1. 1. 1. 1. 1. 1. 1.]\n",
      " [1. 3. 3. 3. 3. 3. 3. 3. 3. 1.]\n",
      " [1. 3. 3. 3. 3. 3. 3. 3. 3. 1.]\n",
      " [1. 3. 3. 3. 3. 3. 3. 3. 3. 1.]\n",
      " [1. 3. 3. 3. 3. 3. 3. 3. 3. 1.]\n",
      " [1. 3. 3. 3. 3. 3. 3. 3. 3. 1.]\n",
      " [1. 3. 3. 3. 3. 3. 3. 3. 3. 1.]\n",
      " [1. 3. 3. 3. 3. 3. 3. 3. 3. 1.]\n",
      " [1. 3. 3. 3. 3. 3. 3. 3. 3. 1.]\n",
      " [1. 1. 1. 1. 1. 1. 1. 1. 1. 1.]]\n"
     ]
    }
   ],
   "source": [
    "import numpy as np\n",
    "arr=np.ones((10,10))\n",
    "arr[1:-1, 1:-1]=3\n",
    "print(arr)"
   ]
  },
  {
   "cell_type": "code",
   "execution_count": 2,
   "id": "16dd213d",
   "metadata": {},
   "outputs": [
    {
     "name": "stdout",
     "output_type": "stream",
     "text": [
      "[[10 11 12 13]\n",
      " [14 15 16 17]\n",
      " [18 19 20 21]]\n"
     ]
    }
   ],
   "source": [
    "import numpy as np\n",
    "arr=np.arange(10,22).reshape((3,4))\n",
    "print(arr)"
   ]
  },
  {
   "cell_type": "code",
   "execution_count": 4,
   "id": "08c3302d",
   "metadata": {},
   "outputs": [
    {
     "name": "stdout",
     "output_type": "stream",
     "text": [
      "[[1 0 0 0 0]\n",
      " [0 2 0 0 0]\n",
      " [0 0 3 0 0]\n",
      " [0 0 0 4 0]\n",
      " [0 0 0 0 5]]\n"
     ]
    }
   ],
   "source": [
    "import numpy as np\n",
    "arr=np.diag([1,2,3,4,5])\n",
    "print(arr)"
   ]
  },
  {
   "cell_type": "code",
   "execution_count": 5,
   "id": "d259d006",
   "metadata": {},
   "outputs": [
    {
     "name": "stdout",
     "output_type": "stream",
     "text": [
      "[[1 0 0]\n",
      " [0 2 0]\n",
      " [0 0 3]]\n"
     ]
    }
   ],
   "source": [
    "import numpy as np\n",
    "arr=np.diag([1,2,3])\n",
    "print(arr)"
   ]
  },
  {
   "cell_type": "code",
   "execution_count": 15,
   "id": "f210b48f",
   "metadata": {},
   "outputs": [
    {
     "name": "stdout",
     "output_type": "stream",
     "text": [
      "[[[0.45826865 0.09755854 0.55157473]\n",
      "  [0.0669997  0.49668916 0.60088539]\n",
      "  [0.02667442 0.61847825 0.91316114]]\n",
      "\n",
      " [[0.78002811 0.87961548 0.26069728]\n",
      "  [0.05114396 0.17337341 0.15363419]\n",
      "  [0.86026139 0.4535794  0.08150627]]\n",
      "\n",
      " [[0.074406   0.19990771 0.35146386]\n",
      "  [0.38967394 0.35582426 0.91637359]\n",
      "  [0.83862771 0.11115904 0.70152283]]\n",
      "\n",
      " [[0.22995464 0.79117816 0.72618708]\n",
      "  [0.53327878 0.68380212 0.18492264]\n",
      "  [0.47147302 0.59780544 0.04952979]]]\n"
     ]
    }
   ],
   "source": [
    "import numpy as np\n",
    "x=np.random.random((4,3,3))\n",
    "print(x)"
   ]
  },
  {
   "cell_type": "code",
   "execution_count": 23,
   "id": "b68463eb",
   "metadata": {},
   "outputs": [
    {
     "name": "stdout",
     "output_type": "stream",
     "text": [
      "[[1 2]\n",
      " [3 4]]\n",
      "10\n",
      "[4 6]\n",
      "[3 7]\n"
     ]
    }
   ],
   "source": [
    "import numpy as np\n",
    "x=np.array([[1,2],[3,4]])\n",
    "print(x)\n",
    "y=np.sum(x)\n",
    "print(y)\n",
    "print(np.sum(x,axis=0))  //sum of columns\n",
    "print(np.sum(x,axis=1))   //sum of rows\n"
   ]
  },
  {
   "cell_type": "code",
   "execution_count": 25,
   "id": "258469e9",
   "metadata": {},
   "outputs": [
    {
     "name": "stdout",
     "output_type": "stream",
     "text": [
      "original array\n",
      "[2 4]\n",
      "[7 3]\n",
      "inner product of two matrices\n",
      "26\n"
     ]
    }
   ],
   "source": [
    "import numpy as np \n",
    "x=np.array([2,4])\n",
    "y=np.array([7,3])\n",
    "print(\"original array\")\n",
    "print(x)\n",
    "print(y)\n",
    "print(\"inner product of two matrices\")\n",
    "print(np.dot(x,y))\n"
   ]
  },
  {
   "cell_type": "code",
   "execution_count": null,
   "id": "1b056d3f",
   "metadata": {},
   "outputs": [],
   "source": []
  }
 ],
 "metadata": {
  "kernelspec": {
   "display_name": "Python 3 (ipykernel)",
   "language": "python",
   "name": "python3"
  },
  "language_info": {
   "codemirror_mode": {
    "name": "ipython",
    "version": 3
   },
   "file_extension": ".py",
   "mimetype": "text/x-python",
   "name": "python",
   "nbconvert_exporter": "python",
   "pygments_lexer": "ipython3",
   "version": "3.9.12"
  }
 },
 "nbformat": 4,
 "nbformat_minor": 5
}
