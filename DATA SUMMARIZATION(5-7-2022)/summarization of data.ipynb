{
 "cells": [
  {
   "cell_type": "code",
   "execution_count": 2,
   "id": "a12684ac",
   "metadata": {},
   "outputs": [
    {
     "name": "stdout",
     "output_type": "stream",
     "text": [
      "      Name  Age  Salary   Dept Gender\n",
      "0     tanu   10  100000    CSE      F\n",
      "1   adarsh   20  200000    CSE      M\n",
      "2   soumya   33  200000  CIVIL      F\n",
      "3  shivani   44  100000    ECE      F\n",
      "4  sudheer   67  200000    MEC      M\n",
      "5   kumari   34   10000    MEC      F\n",
      "6    padma   25   10000    ECE      F\n"
     ]
    }
   ],
   "source": [
    "import pandas as pd\n",
    "df=pd.read_csv(\"summarization.csv\")\n",
    "print(df)"
   ]
  },
  {
   "cell_type": "code",
   "execution_count": 5,
   "id": "48fa8ea8",
   "metadata": {},
   "outputs": [
    {
     "name": "stdout",
     "output_type": "stream",
     "text": [
      "<pandas.core.groupby.generic.DataFrameGroupBy object at 0x00000241379F8430>\n"
     ]
    }
   ],
   "source": [
    "print(df.groupby([\"Gender\"]))"
   ]
  },
  {
   "cell_type": "code",
   "execution_count": 6,
   "id": "ff57d52a",
   "metadata": {},
   "outputs": [
    {
     "name": "stdout",
     "output_type": "stream",
     "text": [
      "<pandas.core.groupby.generic.DataFrameGroupBy object at 0x0000024133128850>\n"
     ]
    }
   ],
   "source": [
    "print(df.groupby([\"Dept\"]))"
   ]
  },
  {
   "cell_type": "code",
   "execution_count": 7,
   "id": "9bbd47dd",
   "metadata": {},
   "outputs": [
    {
     "name": "stdout",
     "output_type": "stream",
     "text": [
      "<pandas.core.groupby.generic.DataFrameGroupBy object at 0x00000241379F8550>\n"
     ]
    }
   ],
   "source": [
    "print(df.groupby([\"Salary\"]))"
   ]
  },
  {
   "cell_type": "code",
   "execution_count": 8,
   "id": "82e35221",
   "metadata": {},
   "outputs": [
    {
     "name": "stdout",
     "output_type": "stream",
     "text": [
      "{('F', 'CIVIL'): [2], ('F', 'CSE'): [0], ('F', 'ECE'): [3, 6], ('F', 'MEC'): [5], ('M', 'CSE'): [1], ('M', 'MEC'): [4]}\n"
     ]
    }
   ],
   "source": [
    "a=df.groupby([\"Gender\",\"Dept\"])\n",
    "print(a.groups)"
   ]
  },
  {
   "cell_type": "code",
   "execution_count": 9,
   "id": "7912c4ed",
   "metadata": {},
   "outputs": [
    {
     "name": "stdout",
     "output_type": "stream",
     "text": [
      "{('F', 10): [0], ('F', 25): [6], ('F', 33): [2], ('F', 34): [5], ('F', 44): [3], ('M', 20): [1], ('M', 67): [4]}\n"
     ]
    }
   ],
   "source": [
    "a=df.groupby([\"Gender\",\"Age\"])\n",
    "print(a.groups)"
   ]
  },
  {
   "cell_type": "code",
   "execution_count": 10,
   "id": "2eaee178",
   "metadata": {},
   "outputs": [
    {
     "name": "stdout",
     "output_type": "stream",
     "text": [
      "          Name  Age  Salary Gender\n",
      "Dept                              \n",
      "CIVIL   soumya   33  200000      F\n",
      "CSE       tanu   20  200000      M\n",
      "ECE    shivani   44  100000      F\n",
      "MEC    sudheer   67  200000      M\n"
     ]
    }
   ],
   "source": [
    "print(df.groupby([\"Dept\"]).max())"
   ]
  },
  {
   "cell_type": "code",
   "execution_count": 16,
   "id": "b9afe2f9",
   "metadata": {},
   "outputs": [
    {
     "name": "stdout",
     "output_type": "stream",
     "text": [
      "           Name  Age   Dept Gender\n",
      "Salary                            \n",
      "10000    kumari   25    ECE      F\n",
      "100000  shivani   10    CSE      F\n",
      "200000   adarsh   20  CIVIL      F\n"
     ]
    }
   ],
   "source": [
    "print(df.groupby([\"Salary\"]).min())"
   ]
  },
  {
   "cell_type": "code",
   "execution_count": 18,
   "id": "7f11cc0c",
   "metadata": {},
   "outputs": [
    {
     "name": "stdout",
     "output_type": "stream",
     "text": [
      "        Name  Salary   Dept Gender\n",
      "Age                               \n",
      "10      tanu  100000    CSE      F\n",
      "20    adarsh  200000    CSE      M\n",
      "25     padma   10000    ECE      F\n",
      "33    soumya  200000  CIVIL      F\n",
      "34    kumari   10000    MEC      F\n",
      "44   shivani  100000    ECE      F\n",
      "67   sudheer  200000    MEC      M\n"
     ]
    }
   ],
   "source": [
    "print(df.groupby([\"Age\"]).max())"
   ]
  },
  {
   "cell_type": "code",
   "execution_count": 17,
   "id": "da9479af",
   "metadata": {},
   "outputs": [
    {
     "name": "stdout",
     "output_type": "stream",
     "text": [
      "       Age  Salary\n",
      "Dept              \n",
      "CIVIL   33  200000\n",
      "CSE     30  300000\n",
      "ECE     69  110000\n",
      "MEC    101  210000\n"
     ]
    }
   ],
   "source": [
    "print(df.groupby([\"Dept\"]).sum())"
   ]
  },
  {
   "cell_type": "code",
   "execution_count": 19,
   "id": "376951a3",
   "metadata": {},
   "outputs": [
    {
     "name": "stdout",
     "output_type": "stream",
     "text": [
      "{'CIVIL': [2], 'CSE': [0, 1], 'ECE': [3, 6], 'MEC': [4, 5]}\n"
     ]
    }
   ],
   "source": [
    "print(df.groupby([\"Dept\"]).groups)"
   ]
  },
  {
   "cell_type": "code",
   "execution_count": 20,
   "id": "f29a061e",
   "metadata": {},
   "outputs": [
    {
     "name": "stdout",
     "output_type": "stream",
     "text": [
      "{('F', 'CIVIL'): [2], ('F', 'CSE'): [0], ('F', 'ECE'): [3, 6], ('F', 'MEC'): [5], ('M', 'CSE'): [1], ('M', 'MEC'): [4]}\n"
     ]
    }
   ],
   "source": [
    "print(df.groupby([\"Gender\",\"Dept\"]).groups)"
   ]
  },
  {
   "cell_type": "code",
   "execution_count": 21,
   "id": "21ce0f12",
   "metadata": {},
   "outputs": [
    {
     "name": "stdout",
     "output_type": "stream",
     "text": [
      "{10000: [5, 6], 100000: [0, 3], 200000: [1, 2, 4]}\n"
     ]
    }
   ],
   "source": [
    "print(df.groupby([\"Salary\"]).groups)"
   ]
  },
  {
   "cell_type": "code",
   "execution_count": 23,
   "id": "6122ccf8",
   "metadata": {},
   "outputs": [
    {
     "name": "stdout",
     "output_type": "stream",
     "text": [
      "      Name  Age  Salary Dept Gender\n",
      "3  shivani   44  100000  ECE      F\n",
      "6    padma   25   10000  ECE      F\n"
     ]
    }
   ],
   "source": [
    "a=df.groupby([\"Dept\"])\n",
    "print(a.get_group(\"ECE\"))"
   ]
  },
  {
   "cell_type": "code",
   "execution_count": 24,
   "id": "acd6ef5f",
   "metadata": {},
   "outputs": [
    {
     "name": "stdout",
     "output_type": "stream",
     "text": [
      "     Name  Age  Salary Dept Gender\n",
      "0    tanu   10  100000  CSE      F\n",
      "1  adarsh   20  200000  CSE      M\n"
     ]
    }
   ],
   "source": [
    "t=df.groupby([\"Dept\"])\n",
    "print(t.get_group(\"CSE\"))"
   ]
  },
  {
   "cell_type": "code",
   "execution_count": 28,
   "id": "9c77c6c9",
   "metadata": {},
   "outputs": [
    {
     "name": "stdout",
     "output_type": "stream",
     "text": [
      "      Name  Age  Salary   Dept Gender\n",
      "1   adarsh   20  200000    CSE      M\n",
      "2   soumya   33  200000  CIVIL      F\n",
      "4  sudheer   67  200000    MEC      M\n"
     ]
    }
   ],
   "source": [
    "t=df.groupby([\"Salary\"])\n",
    "print(t.get_group(200000))"
   ]
  },
  {
   "cell_type": "code",
   "execution_count": 29,
   "id": "92479646",
   "metadata": {},
   "outputs": [
    {
     "name": "stdout",
     "output_type": "stream",
     "text": [
      "    Name  Age  Salary Dept Gender\n",
      "6  padma   25   10000  ECE      F\n"
     ]
    }
   ],
   "source": [
    "a=df.groupby([\"Age\"])\n",
    "print(a.get_group(25))"
   ]
  },
  {
   "cell_type": "code",
   "execution_count": 30,
   "id": "71dd7977",
   "metadata": {},
   "outputs": [
    {
     "data": {
      "text/plain": [
       "F    5\n",
       "M    2\n",
       "Name: Gender, dtype: int64"
      ]
     },
     "execution_count": 30,
     "metadata": {},
     "output_type": "execute_result"
    }
   ],
   "source": [
    "df[\"Gender\"].value_counts()"
   ]
  },
  {
   "cell_type": "code",
   "execution_count": 31,
   "id": "4a77fbb2",
   "metadata": {},
   "outputs": [
    {
     "data": {
      "text/plain": [
       "CSE      2\n",
       "ECE      2\n",
       "MEC      2\n",
       "CIVIL    1\n",
       "Name: Dept, dtype: int64"
      ]
     },
     "execution_count": 31,
     "metadata": {},
     "output_type": "execute_result"
    }
   ],
   "source": [
    "df[\"Dept\"].value_counts()"
   ]
  },
  {
   "cell_type": "code",
   "execution_count": 32,
   "id": "27d4056b",
   "metadata": {},
   "outputs": [
    {
     "data": {
      "text/plain": [
       "10    1\n",
       "20    1\n",
       "33    1\n",
       "44    1\n",
       "67    1\n",
       "34    1\n",
       "25    1\n",
       "Name: Age, dtype: int64"
      ]
     },
     "execution_count": 32,
     "metadata": {},
     "output_type": "execute_result"
    }
   ],
   "source": [
    "df[\"Age\"].value_counts()"
   ]
  },
  {
   "cell_type": "code",
   "execution_count": 33,
   "id": "2d675992",
   "metadata": {},
   "outputs": [
    {
     "data": {
      "text/plain": [
       "200000    3\n",
       "100000    2\n",
       "10000     2\n",
       "Name: Salary, dtype: int64"
      ]
     },
     "execution_count": 33,
     "metadata": {},
     "output_type": "execute_result"
    }
   ],
   "source": [
    "df[\"Salary\"].value_counts()"
   ]
  },
  {
   "cell_type": "code",
   "execution_count": 34,
   "id": "75253848",
   "metadata": {},
   "outputs": [
    {
     "data": {
      "text/plain": [
       "<pandas.core.groupby.generic.DataFrameGroupBy object at 0x000002413907F880>"
      ]
     },
     "execution_count": 34,
     "metadata": {},
     "output_type": "execute_result"
    }
   ],
   "source": [
    "df.groupby([\"Dept\",\"Gender\"])"
   ]
  },
  {
   "cell_type": "code",
   "execution_count": null,
   "id": "312e4454",
   "metadata": {},
   "outputs": [],
   "source": []
  }
 ],
 "metadata": {
  "kernelspec": {
   "display_name": "Python 3 (ipykernel)",
   "language": "python",
   "name": "python3"
  },
  "language_info": {
   "codemirror_mode": {
    "name": "ipython",
    "version": 3
   },
   "file_extension": ".py",
   "mimetype": "text/x-python",
   "name": "python",
   "nbconvert_exporter": "python",
   "pygments_lexer": "ipython3",
   "version": "3.9.12"
  }
 },
 "nbformat": 4,
 "nbformat_minor": 5
}
