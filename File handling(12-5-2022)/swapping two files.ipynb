{
 "cells": [
  {
   "cell_type": "markdown",
   "id": "aaef6172",
   "metadata": {},
   "source": [
    "## Swapping two files"
   ]
  },
  {
   "cell_type": "code",
   "execution_count": 2,
   "id": "ce78636d",
   "metadata": {},
   "outputs": [
    {
     "name": "stdout",
     "output_type": "stream",
     "text": [
      "content inserted successfully\n"
     ]
    }
   ],
   "source": [
    "f1 = open(\"file1.txt\",\"w\")\n",
    "f1.write(\"abc\")\n",
    "f2 = open(\"file2.txt\",\"w\")\n",
    "f2.write(\"123\")\n",
    "print(\"content inserted successfully\")\n",
    "f1.close()\n",
    "f2.close()"
   ]
  },
  {
   "cell_type": "code",
   "execution_count": 3,
   "id": "0b5503b6",
   "metadata": {},
   "outputs": [],
   "source": [
    "## Swapping "
   ]
  },
  {
   "cell_type": "code",
   "execution_count": 9,
   "id": "f9fed51c",
   "metadata": {},
   "outputs": [],
   "source": [
    "f1 = open(\"file1.txt\",\"r\")\n",
    "x = f1.read()\n",
    "f1.close()\n",
    "f1 = open(\"file1.txt\",\"w\")\n",
    "f2 = open(\"file2.txt\",\"r\")\n",
    "f1.write(f2.read())\n",
    "f1.close()\n",
    "f2.close()\n",
    "f2 = open(\"file2.txt\",\"w\")\n",
    "f2.write(x)\n",
    "f2.close()"
   ]
  },
  {
   "cell_type": "code",
   "execution_count": null,
   "id": "6045ce61",
   "metadata": {},
   "outputs": [],
   "source": []
  }
 ],
 "metadata": {
  "kernelspec": {
   "display_name": "Python 3 (ipykernel)",
   "language": "python",
   "name": "python3"
  },
  "language_info": {
   "codemirror_mode": {
    "name": "ipython",
    "version": 3
   },
   "file_extension": ".py",
   "mimetype": "text/x-python",
   "name": "python",
   "nbconvert_exporter": "python",
   "pygments_lexer": "ipython3",
   "version": "3.9.12"
  }
 },
 "nbformat": 4,
 "nbformat_minor": 5
}
