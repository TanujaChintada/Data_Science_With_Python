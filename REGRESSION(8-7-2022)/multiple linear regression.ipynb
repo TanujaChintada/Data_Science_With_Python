{
 "cells": [
  {
   "cell_type": "code",
   "execution_count": 3,
   "id": "5ac6e434",
   "metadata": {},
   "outputs": [],
   "source": [
    "import numpy as np\n",
    "from sklearn.linear_model import LinearRegression\n"
   ]
  },
  {
   "cell_type": "code",
   "execution_count": 8,
   "id": "c0ca00b3",
   "metadata": {},
   "outputs": [
    {
     "data": {
      "text/plain": [
       "0.8615939258756776"
      ]
     },
     "execution_count": 8,
     "metadata": {},
     "output_type": "execute_result"
    }
   ],
   "source": [
    "x = [[0,1],[5,1],[15,2],[25,5],[35,11],[45,15],[55,34],[60,35]]\n",
    "y = [4,5,20,14,32,22,38,43]\n",
    "x,y = np.array(x),np.array(y)\n",
    "model = LinearRegression().fit(x,y)\n",
    "r_sq = model.score(x,y)\n",
    "r_sq"
   ]
  },
  {
   "cell_type": "raw",
   "id": "24e04d5e",
   "metadata": {},
   "source": []
  },
  {
   "cell_type": "code",
   "execution_count": 10,
   "id": "1e706235",
   "metadata": {},
   "outputs": [
    {
     "name": "stdout",
     "output_type": "stream",
     "text": [
      "coefficient of determination : 0.8615939258756776\n",
      "intercept:5.522579275198183\n",
      "coeffiecient : [0.44706965 0.25502548]\n"
     ]
    }
   ],
   "source": [
    "print(f\"coefficient of determination : {r_sq}\")\n",
    "print(f\"intercept:{model.intercept_}\")\n",
    "print(f\"coeffiecient : {model.coef_}\")\n"
   ]
  },
  {
   "cell_type": "code",
   "execution_count": 11,
   "id": "8d24517f",
   "metadata": {},
   "outputs": [
    {
     "name": "stdout",
     "output_type": "stream",
     "text": [
      "predicted response:\n",
      "[ 5.77760476  8.012953   12.73867497 17.9744479  23.97529728 29.4660957\n",
      " 38.78227633 41.27265006]\n"
     ]
    }
   ],
   "source": [
    "y_pred = model.predict(x)\n",
    "print(f\"predicted response:\\n{y_pred}\")"
   ]
  },
  {
   "cell_type": "code",
   "execution_count": 13,
   "id": "f6960884",
   "metadata": {},
   "outputs": [
    {
     "data": {
      "text/plain": [
       "array([ 5.77760476,  8.012953  , 12.73867497, 17.9744479 , 23.97529728,\n",
       "       29.4660957 , 38.78227633, 41.27265006])"
      ]
     },
     "execution_count": 13,
     "metadata": {},
     "output_type": "execute_result"
    }
   ],
   "source": [
    "y_pred = model.intercept_+np.sum(model.coef_*x,axis=1)\n",
    "y_pred"
   ]
  },
  {
   "cell_type": "code",
   "execution_count": 20,
   "id": "e4467cbd",
   "metadata": {},
   "outputs": [
    {
     "data": {
      "text/plain": [
       "array([[0, 1],\n",
       "       [2, 3],\n",
       "       [4, 5],\n",
       "       [6, 7],\n",
       "       [8, 9]])"
      ]
     },
     "execution_count": 20,
     "metadata": {},
     "output_type": "execute_result"
    }
   ],
   "source": [
    "x_new = np.arange(10).reshape((-1,2))\n",
    "x_new"
   ]
  },
  {
   "cell_type": "code",
   "execution_count": 22,
   "id": "445d7eea",
   "metadata": {},
   "outputs": [
    {
     "data": {
      "text/plain": [
       "array([ 5.77760476,  7.18179502,  8.58598528,  9.99017554, 11.3943658 ])"
      ]
     },
     "execution_count": 22,
     "metadata": {},
     "output_type": "execute_result"
    }
   ],
   "source": [
    "y_new = model.predict(x_new)\n",
    "y_new"
   ]
  },
  {
   "cell_type": "code",
   "execution_count": null,
   "id": "3d5abd5f",
   "metadata": {},
   "outputs": [],
   "source": []
  }
 ],
 "metadata": {
  "kernelspec": {
   "display_name": "Python 3 (ipykernel)",
   "language": "python",
   "name": "python3"
  },
  "language_info": {
   "codemirror_mode": {
    "name": "ipython",
    "version": 3
   },
   "file_extension": ".py",
   "mimetype": "text/x-python",
   "name": "python",
   "nbconvert_exporter": "python",
   "pygments_lexer": "ipython3",
   "version": "3.9.12"
  }
 },
 "nbformat": 4,
 "nbformat_minor": 5
}
