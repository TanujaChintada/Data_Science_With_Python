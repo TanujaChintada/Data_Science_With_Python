{
 "cells": [
  {
   "cell_type": "markdown",
   "id": "541cf485",
   "metadata": {},
   "source": [
    "# Polynomial Regression "
   ]
  },
  {
   "cell_type": "code",
   "execution_count": 5,
   "id": "ef7bf90e",
   "metadata": {},
   "outputs": [],
   "source": [
    "import numpy as np\n",
    "from sklearn.linear_model import LinearRegression\n",
    "from sklearn.preprocessing import PolynomialFeatures"
   ]
  },
  {
   "cell_type": "code",
   "execution_count": 7,
   "id": "ec329122",
   "metadata": {},
   "outputs": [
    {
     "name": "stdout",
     "output_type": "stream",
     "text": [
      "0.8908516262498563\n"
     ]
    }
   ],
   "source": [
    "x = np.array([5,15,25,35,45,55]).reshape((-1,1))\n",
    "y = np.array([15,11,2,8,25,32])\n",
    "transformer = PolynomialFeatures(degree=2,include_bias=False)\n",
    "transformer.fit(x)\n",
    "x_ = transformer.transform(x)\n",
    "model = LinearRegression().fit(x_,y)\n",
    "score = model.score(x_,y)\n",
    "print(score)\n"
   ]
  },
  {
   "cell_type": "code",
   "execution_count": 8,
   "id": "04c07fc0",
   "metadata": {},
   "outputs": [
    {
     "name": "stdout",
     "output_type": "stream",
     "text": [
      "intercept:21.372321428571453\n",
      "coefficent:[-1.32357143  0.02839286]\n"
     ]
    }
   ],
   "source": [
    "print(f\"intercept:{model.intercept_}\")\n",
    "print(f\"coefficent:{model.coef_}\")\n"
   ]
  },
  {
   "cell_type": "code",
   "execution_count": 14,
   "id": "c052f6ce",
   "metadata": {},
   "outputs": [
    {
     "name": "stdout",
     "output_type": "stream",
     "text": [
      "[15.46428571  7.90714286  6.02857143  9.82857143 19.30714286 34.46428571]\n"
     ]
    }
   ],
   "source": [
    "y_pred = model.predict(x_)\n",
    "print(y_pred)\n"
   ]
  },
  {
   "cell_type": "code",
   "execution_count": 12,
   "id": "cf05a620",
   "metadata": {},
   "outputs": [
    {
     "name": "stdout",
     "output_type": "stream",
     "text": [
      "[ 14.89642857   1.94464286 -11.00714286 -23.95892857 -36.91071429\n",
      " -49.8625    ]\n",
      "-2.998884765100824\n"
     ]
    }
   ],
   "source": [
    "#check prediction values whether corect or not\n",
    "y_pred = model.intercept_+ np.sum(model.coef_*x,axis=1)\n",
    "print(y_pred)\n",
    "print(model.score(x_,y_pred))"
   ]
  },
  {
   "cell_type": "code",
   "execution_count": 15,
   "id": "4cf69e88",
   "metadata": {},
   "outputs": [],
   "source": [
    "# Polynomial Regression model 2"
   ]
  },
  {
   "cell_type": "code",
   "execution_count": 16,
   "id": "6b14d017",
   "metadata": {},
   "outputs": [],
   "source": [
    "import numpy as np\n",
    "from sklearn.linear_model import LinearRegression\n",
    "from sklearn.preprocessing import PolynomialFeatures\n"
   ]
  },
  {
   "cell_type": "code",
   "execution_count": 20,
   "id": "d5876703",
   "metadata": {},
   "outputs": [
    {
     "name": "stdout",
     "output_type": "stream",
     "text": [
      "0.9030890446819653\n"
     ]
    }
   ],
   "source": [
    "x = np.array([5,15,25,35,45,55]).reshape((-1,1))\n",
    "y = np.array([15,11,2,8,25,32])\n",
    "t = PolynomialFeatures(degree = 3,include_bias = True)\n",
    "t.fit(x)\n",
    "x_ = t.transform(x)\n",
    "model = LinearRegression().fit(x_,y)\n",
    "score = model.score(x_,y)\n",
    "print(score)\n"
   ]
  },
  {
   "cell_type": "code",
   "execution_count": 21,
   "id": "25cbf2e4",
   "metadata": {},
   "outputs": [
    {
     "name": "stdout",
     "output_type": "stream",
     "text": [
      "intercept:25.43204365082893\n",
      "coefficient:[ 0.00000000e+00 -2.07556217e+00  5.92261905e-02 -3.42592593e-04]\n"
     ]
    }
   ],
   "source": [
    "print(f\"intercept:{model.intercept_}\")\n",
    "print(f\"coefficient:{model.coef_}\")"
   ]
  },
  {
   "cell_type": "code",
   "execution_count": 22,
   "id": "f225fb1d",
   "metadata": {},
   "outputs": [
    {
     "name": "stdout",
     "output_type": "stream",
     "text": [
      "[16.49206349  6.46825397  5.20634921 10.65079365 20.74603175 33.43650794]\n"
     ]
    }
   ],
   "source": [
    "y_pred = model.predict(x_)\n",
    "print(y_pred)"
   ]
  },
  {
   "cell_type": "code",
   "execution_count": 24,
   "id": "79274fc0",
   "metadata": {},
   "outputs": [
    {
     "name": "stdout",
     "output_type": "stream",
     "text": [
      "[ 15.34865079  -4.81813492 -24.98492063 -45.15170635 -65.31849206\n",
      " -85.48527778]\n"
     ]
    },
    {
     "data": {
      "text/plain": [
       "-2.6114598719942514"
      ]
     },
     "execution_count": 24,
     "metadata": {},
     "output_type": "execute_result"
    }
   ],
   "source": [
    "y_pred = model.intercept_ + np.sum(model.coef_*x,axis=1)\n",
    "print(y_pred)\n",
    "model.score(x_,y_pred)"
   ]
  },
  {
   "cell_type": "code",
   "execution_count": null,
   "id": "f9f3c3df",
   "metadata": {},
   "outputs": [],
   "source": []
  }
 ],
 "metadata": {
  "kernelspec": {
   "display_name": "Python 3 (ipykernel)",
   "language": "python",
   "name": "python3"
  },
  "language_info": {
   "codemirror_mode": {
    "name": "ipython",
    "version": 3
   },
   "file_extension": ".py",
   "mimetype": "text/x-python",
   "name": "python",
   "nbconvert_exporter": "python",
   "pygments_lexer": "ipython3",
   "version": "3.9.12"
  }
 },
 "nbformat": 4,
 "nbformat_minor": 5
}
